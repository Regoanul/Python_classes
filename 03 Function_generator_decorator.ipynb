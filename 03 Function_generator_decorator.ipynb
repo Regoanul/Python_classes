{
 "cells": [
  {
   "cell_type": "markdown",
   "metadata": {},
   "source": [
    "# Function"
   ]
  },
  {
   "cell_type": "code",
   "execution_count": 4,
   "metadata": {},
   "outputs": [
    {
     "name": "stdout",
     "output_type": "stream",
     "text": [
      "Good morning\n",
      "Welcome\n"
     ]
    }
   ],
   "source": [
    "# Definition of Function\n",
    "\n",
    "def greet():\n",
    "    print(\"Good morning\")\n",
    "    print(\"Welcome\")\n",
    "\n",
    "# Calling function\n",
    "\n",
    "greet() # ver = greet(); print (var)"
   ]
  },
  {
   "cell_type": "markdown",
   "metadata": {},
   "source": [
    " ### Function with args"
   ]
  },
  {
   "cell_type": "code",
   "execution_count": 11,
   "metadata": {},
   "outputs": [
    {
     "data": {
      "text/plain": [
       "True"
      ]
     },
     "execution_count": 11,
     "metadata": {},
     "output_type": "execute_result"
    }
   ],
   "source": [
    "def is_even(num: int) -> bool:\n",
    "    if num%2 == 0:\n",
    "        return True\n",
    "    else:\n",
    "        return False\n",
    "\n",
    "var = is_even (4)\n",
    "var"
   ]
  },
  {
   "cell_type": "markdown",
   "metadata": {},
   "source": [
    "### function with Dynamic args"
   ]
  },
  {
   "cell_type": "code",
   "execution_count": 14,
   "metadata": {},
   "outputs": [
    {
     "data": {
      "text/plain": [
       "[True, False, True, False, True]"
      ]
     },
     "execution_count": 14,
     "metadata": {},
     "output_type": "execute_result"
    }
   ],
   "source": [
    "def is_even(*nums:int) ->list:\n",
    "    results = []\n",
    "    for num in nums:\n",
    "        if num%2 == 0:\n",
    "            results.append(True)\n",
    "        else:\n",
    "            results.append(False)\n",
    "    return results\n",
    "is_even (2,3,4,5,6)"
   ]
  },
  {
   "cell_type": "markdown",
   "metadata": {},
   "source": [
    "### Keyword args"
   ]
  },
  {
   "cell_type": "code",
   "execution_count": 17,
   "metadata": {},
   "outputs": [
    {
     "data": {
      "text/plain": [
       "True"
      ]
     },
     "execution_count": 17,
     "metadata": {},
     "output_type": "execute_result"
    }
   ],
   "source": [
    "def is_divisible(num: int=4, divisor: int=2) -> bool: # int = 2 by default value\n",
    "    if num%divisor == 0:\n",
    "        return True\n",
    "    else:\n",
    "        return False\n",
    "\n",
    "is_divisible(12, 60) # order maintain korte hobe\n",
    "is_divisible(divisor=12, num=60) "
   ]
  },
  {
   "cell_type": "markdown",
   "metadata": {},
   "source": [
    "### Dynamic Keyword args"
   ]
  },
  {
   "cell_type": "code",
   "execution_count": 20,
   "metadata": {},
   "outputs": [
    {
     "name": "stdout",
     "output_type": "stream",
     "text": [
      "email => user@gmail.com\n",
      "name => John\n",
      "phone => 3962347338\n",
      "email2 => shfdsh@gmail.com\n"
     ]
    }
   ],
   "source": [
    "def login(**kwargs):\n",
    "    for key, value in kwargs.items():\n",
    "        print(key, \"=>\", value)\n",
    "    \n",
    "login(email=\"user@gmail.com\", name='John', phone='3962347338', email2=\"shfdsh@gmail.com\")"
   ]
  },
  {
   "cell_type": "markdown",
   "metadata": {},
   "source": [
    "# Generator"
   ]
  },
  {
   "cell_type": "code",
   "execution_count": 53,
   "metadata": {},
   "outputs": [
    {
     "data": {
      "text/plain": [
       "1"
      ]
     },
     "execution_count": 53,
     "metadata": {},
     "output_type": "execute_result"
    }
   ],
   "source": [
    "def genSq(start, stop):\n",
    "    for num in range(start, stop+1):\n",
    "        yield num**2 # yield is like return,\n",
    "\n",
    "gen = genSq(1, 100000)\n",
    "next(gen)"
   ]
  },
  {
   "cell_type": "markdown",
   "metadata": {},
   "source": [
    "# Decorator"
   ]
  },
  {
   "cell_type": "code",
   "execution_count": 17,
   "metadata": {},
   "outputs": [],
   "source": [
    "def loggedIn_required(function):\n",
    "    global logged_in\n",
    "    def wrapper(*args, **kwargs):\n",
    "        if logged_in:\n",
    "            f = function(*args, **kwargs)\n",
    "            return f\n",
    "        else:\n",
    "            print(\"logged In First\")\n",
    "            return False\n",
    "    return wrapper"
   ]
  },
  {
   "cell_type": "code",
   "execution_count": 19,
   "metadata": {},
   "outputs": [
    {
     "name": "stdout",
     "output_type": "stream",
     "text": [
      "order :  Iphone\n",
      "Sucessfully placed\n"
     ]
    }
   ],
   "source": [
    "logged_in = True\n",
    "@loggedIn_required # decorator\n",
    "def order(pname):\n",
    "    print(\"order : \", pname)\n",
    "    print(\"Sucessfully placed\")\n",
    "\n",
    "order(\"Iphone\")"
   ]
  },
  {
   "cell_type": "markdown",
   "metadata": {},
   "source": [
    "# Short Hand "
   ]
  },
  {
   "cell_type": "code",
   "execution_count": 20,
   "metadata": {},
   "outputs": [
    {
     "data": {
      "text/plain": [
       "[1, 4, 27, 16, 125, 36, 343, 64, 729]"
      ]
     },
     "execution_count": 20,
     "metadata": {},
     "output_type": "execute_result"
    }
   ],
   "source": [
    "results = []\n",
    "for num in range(1, 10):\n",
    "    if num%2 == 0:\n",
    "        results.append(num**2)\n",
    "    else:\n",
    "        results.append(num**3)\n",
    "results"
   ]
  },
  {
   "cell_type": "markdown",
   "metadata": {},
   "source": [
    "# List Comprehension"
   ]
  },
  {
   "cell_type": "code",
   "execution_count": 33,
   "metadata": {},
   "outputs": [
    {
     "data": {
      "text/plain": [
       "{1: 1, 2: 4, 3: 27, 4: 16, 5: 125, 6: 36, 7: 343, 8: 64, 9: 729}"
      ]
     },
     "execution_count": 33,
     "metadata": {},
     "output_type": "execute_result"
    }
   ],
   "source": [
    "results1 = [num**2 if num%2 == 0 else num**3 for num in range(1, 10)]\n",
    "results1 \n",
    "\n",
    "results2 = [num**2 for num in range(1, 10) if num%2 == 0]\n",
    "results2\n",
    "\n",
    "results3 = [num**2 for num in range(1, 10)]\n",
    "results3\n",
    "\n",
    "set1 = {num%2 for num in range(1, 10)} #set\n",
    "set1\n",
    "\n",
    "set1 = [num%2 for num in range(1, 10)] #list\n",
    "set1\n",
    "\n",
    "d = {num:num**2 if num%2 == 0 else num**3 for num in range(1, 10)} #dictionary\n",
    "d"
   ]
  },
  {
   "cell_type": "code",
   "execution_count": 36,
   "metadata": {},
   "outputs": [
    {
     "name": "stdout",
     "output_type": "stream",
     "text": [
      "[1, 2, 3]\n",
      "1\n",
      "4\n",
      "9\n",
      "[4, 5, 6]\n",
      "16\n",
      "25\n",
      "36\n",
      "[7, 8, 9]\n",
      "49\n",
      "64\n",
      "81\n"
     ]
    }
   ],
   "source": [
    "data = [\n",
    "    [1, 2, 3],\n",
    "    [4, 5, 6],\n",
    "    [7, 8, 9]\n",
    "]\n",
    "data\n",
    "\n",
    "sqData = [[col**2 for col in row] for row in data] #square\n",
    "sqData\n",
    "\n",
    "for row in data:\n",
    "    print(row)\n",
    "    for col in row:\n",
    "        print(col**2)"
   ]
  },
  {
   "cell_type": "markdown",
   "metadata": {},
   "source": [
    "# Lamba"
   ]
  },
  {
   "cell_type": "code",
   "execution_count": 45,
   "metadata": {},
   "outputs": [
    {
     "data": {
      "text/plain": [
       "True"
      ]
     },
     "execution_count": 45,
     "metadata": {},
     "output_type": "execute_result"
    }
   ],
   "source": [
    "def is_even(num: int) -> bool:\n",
    "    if num%2 == 0:\n",
    "        return True\n",
    "    else:\n",
    "        return False\n",
    "\n",
    "is_ev = lambda num: True if num%2==0 else False #same as uporer code\n",
    "is_ev(4)\n",
    "\n",
    "#eq = lambda a,b: a**2 + 2*a*b + b**2\n",
    "#eq(2,3)"
   ]
  },
  {
   "cell_type": "markdown",
   "metadata": {},
   "source": [
    "# Map and Filter"
   ]
  },
  {
   "cell_type": "code",
   "execution_count": 41,
   "metadata": {},
   "outputs": [
    {
     "data": {
      "text/plain": [
       "[True, False, True, False, True, False, True, False]"
      ]
     },
     "execution_count": 41,
     "metadata": {},
     "output_type": "execute_result"
    }
   ],
   "source": [
    "list(map(is_even, [2,3,4,5,6,7,8,9]))"
   ]
  },
  {
   "cell_type": "code",
   "execution_count": 42,
   "metadata": {},
   "outputs": [
    {
     "data": {
      "text/plain": [
       "[2, 4, 6, 8]"
      ]
     },
     "execution_count": 42,
     "metadata": {},
     "output_type": "execute_result"
    }
   ],
   "source": [
    "list(filter(is_even, [2,3,4,5,6,7,8,9]))"
   ]
  },
  {
   "cell_type": "code",
   "execution_count": 53,
   "metadata": {},
   "outputs": [
    {
     "data": {
      "text/plain": [
       "[3, 5, 7, 9]"
      ]
     },
     "execution_count": 53,
     "metadata": {},
     "output_type": "execute_result"
    }
   ],
   "source": [
    "list(filter(lambda num: False if num%2==0 else True, [2,3,4,5,6,7,8,9])) # je value jonno true sei value return korbe"
   ]
  }
 ],
 "metadata": {
  "kernelspec": {
   "display_name": "Python 3.10.2 64-bit",
   "language": "python",
   "name": "python3"
  },
  "language_info": {
   "codemirror_mode": {
    "name": "ipython",
    "version": 3
   },
   "file_extension": ".py",
   "mimetype": "text/x-python",
   "name": "python",
   "nbconvert_exporter": "python",
   "pygments_lexer": "ipython3",
   "version": "3.10.2"
  },
  "orig_nbformat": 4,
  "vscode": {
   "interpreter": {
    "hash": "a9cff5a362bc38ef45d817ae74b1af54d6a076e3d773891282bce078b815ba34"
   }
  }
 },
 "nbformat": 4,
 "nbformat_minor": 2
}
