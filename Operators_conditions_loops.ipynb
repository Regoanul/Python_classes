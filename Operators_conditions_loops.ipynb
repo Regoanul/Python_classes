{
 "cells": [
  {
   "cell_type": "markdown",
   "metadata": {},
   "source": [
    "# Operators"
   ]
  },
  {
   "cell_type": "markdown",
   "metadata": {},
   "source": [
    "### Arithmetic"
   ]
  },
  {
   "cell_type": "code",
   "execution_count": 8,
   "metadata": {},
   "outputs": [
    {
     "name": "stdout",
     "output_type": "stream",
     "text": [
      "5\n",
      "1\n",
      "1.5\n"
     ]
    },
    {
     "data": {
      "text/plain": [
       "8"
      ]
     },
     "execution_count": 8,
     "metadata": {},
     "output_type": "execute_result"
    }
   ],
   "source": [
    "n1 = 2+3\n",
    "n2 = 4-3\n",
    "n3 = 3/2\n",
    "\n",
    "print(n1)\n",
    "print(n2)\n",
    "print(n3)\n",
    "\n",
    "3//2 # integer division\n",
    "5%2 # remainder\n",
    "2**3 # squire"
   ]
  },
  {
   "cell_type": "markdown",
   "metadata": {},
   "source": [
    "### Relational"
   ]
  },
  {
   "cell_type": "code",
   "execution_count": 11,
   "metadata": {},
   "outputs": [
    {
     "data": {
      "text/plain": [
       "True"
      ]
     },
     "execution_count": 11,
     "metadata": {},
     "output_type": "execute_result"
    }
   ],
   "source": [
    "4 > 2\n",
    "2 > 4\n",
    "4 == 4 # equaltu\n",
    "# 4 >= 5 # greaterthan or equaltu\n",
    "# 4 <= 5\n",
    "4 != 5 # not equaltu"
   ]
  },
  {
   "cell_type": "markdown",
   "metadata": {},
   "source": [
    "### Logical Opearators"
   ]
  },
  {
   "cell_type": "code",
   "execution_count": 21,
   "metadata": {},
   "outputs": [
    {
     "data": {
      "text/plain": [
       "True"
      ]
     },
     "execution_count": 21,
     "metadata": {},
     "output_type": "execute_result"
    }
   ],
   "source": [
    "False and False\n",
    "False and True\n",
    "True and False\n",
    "True and True\n",
    "\n",
    "False or False\n",
    "False or True\n",
    "True or False\n",
    "True or True\n",
    "\n",
    "not True\n",
    "not False "
   ]
  },
  {
   "cell_type": "code",
   "execution_count": 1,
   "metadata": {},
   "outputs": [
    {
     "data": {
      "text/plain": [
       "False"
      ]
     },
     "execution_count": 1,
     "metadata": {},
     "output_type": "execute_result"
    }
   ],
   "source": [
    "marks = 78\n",
    "(marks > 74) and (marks > 90)"
   ]
  },
  {
   "cell_type": "markdown",
   "metadata": {},
   "source": [
    "### Assignment Operators"
   ]
  },
  {
   "cell_type": "code",
   "execution_count": 9,
   "metadata": {},
   "outputs": [
    {
     "data": {
      "text/plain": [
       "18"
      ]
     },
     "execution_count": 9,
     "metadata": {},
     "output_type": "execute_result"
    }
   ],
   "source": [
    "num = 9\n",
    "num += 5 # 9+5\n",
    "num -=5 # 9-5\n",
    "num *= 2 # 9*2\n",
    "num **=2 # 9 square\n",
    "num"
   ]
  },
  {
   "cell_type": "markdown",
   "metadata": {},
   "source": [
    "### Special Operators"
   ]
  },
  {
   "cell_type": "code",
   "execution_count": 22,
   "metadata": {},
   "outputs": [
    {
     "data": {
      "text/plain": [
       "False"
      ]
     },
     "execution_count": 22,
     "metadata": {},
     "output_type": "execute_result"
    }
   ],
   "source": [
    "\"P\" in \"Python\"  ## in operators\n",
    "\"R\" in \"Regoanul\"\n",
    "2 in [2,3,4]\n",
    "1 in {1: \"John\", 2: \"Alex\"} # only check keys not values\n",
    "\n",
    "\n",
    "a = 2.0\n",
    "b = 2\n",
    "a == b # check only value\n",
    "a is b # check value and type  ## is operators"
   ]
  },
  {
   "cell_type": "markdown",
   "metadata": {},
   "source": [
    "### Bitwise Operators"
   ]
  },
  {
   "cell_type": "code",
   "execution_count": 8,
   "metadata": {},
   "outputs": [
    {
     "data": {
      "text/plain": [
       "40"
      ]
     },
     "execution_count": 8,
     "metadata": {},
     "output_type": "execute_result"
    }
   ],
   "source": [
    "bin (10)  # see the lecture note or video for better understanding\n",
    "bin (17)\n",
    "\n",
    "10 & 5\n",
    "10 | 5\n",
    "~5 # return revarse value but count 0 to 5 \n",
    "10^6 # xor operation\n",
    "10 << 2 # shift operator 2 left direction / 2 bit ahead\n",
    "#10 >> 2 # 2 right side"
   ]
  },
  {
   "cell_type": "markdown",
   "metadata": {},
   "source": [
    "# Condition"
   ]
  },
  {
   "cell_type": "markdown",
   "metadata": {},
   "source": [
    "### Conditional Statement"
   ]
  },
  {
   "cell_type": "code",
   "execution_count": 60,
   "metadata": {},
   "outputs": [
    {
     "name": "stdout",
     "output_type": "stream",
     "text": [
      "19\n",
      "Eligible for Green Card\n"
     ]
    }
   ],
   "source": [
    "\n",
    "age = int(input(\"Enter the age\"))\n",
    "# age = 14\n",
    "print(age)\n",
    "\n",
    "if age >= 25 and age <= 60:\n",
    "    print(\"Eligible for Debit Card\")\n",
    "elif age > 18:\n",
    "    print(\"Eligible for Green Card\")\n",
    "elif age > 14:\n",
    "    print(\"Eligible for Zero Balance Account\")\n",
    "else:\n",
    "    print(\"Not Eligible\")\n"
   ]
  },
  {
   "cell_type": "markdown",
   "metadata": {},
   "source": [
    "### Nested Conditions"
   ]
  },
  {
   "cell_type": "code",
   "execution_count": 61,
   "metadata": {},
   "outputs": [
    {
     "name": "stdout",
     "output_type": "stream",
     "text": [
      "Eligible For Gold Credit Card!\n"
     ]
    }
   ],
   "source": [
    "age = 21\n",
    "salary = 170000\n",
    "if (age >= 18) and (age<=60):\n",
    "    if salary>=40000:\n",
    "        if salary>100000:\n",
    "            print(\"Eligible For Gold Credit Card!\")\n",
    "        else:\n",
    "            print(\"Eligible For Platinum Credit Card!\")\n",
    "    else:\n",
    "        print(\"Eligible For Debit Card!\")\n",
    "elif age > 14:\n",
    "    print(\"Eligible For Green Card!\")\n",
    "elif age > 10:\n",
    "    print(\"Eligible For Zero Balance Account!\")\n",
    "else:\n",
    "    print(\"Not Eligible!\")"
   ]
  },
  {
   "cell_type": "markdown",
   "metadata": {},
   "source": [
    "### Ternary Operator"
   ]
  },
  {
   "cell_type": "code",
   "execution_count": 11,
   "metadata": {},
   "outputs": [
    {
     "data": {
      "text/plain": [
       "True"
      ]
     },
     "execution_count": 11,
     "metadata": {},
     "output_type": "execute_result"
    }
   ],
   "source": [
    "num = 4\n",
    "#is_even = None\n",
    "if num%2 == 0:\n",
    "    is_even = True\n",
    "else:\n",
    "    is_even = False\n",
    "is_even\n",
    "\n",
    "# Another way\n",
    "is_even = True if num%2==0 else False\n",
    "is_even"
   ]
  },
  {
   "cell_type": "code",
   "execution_count": 7,
   "metadata": {},
   "outputs": [
    {
     "data": {
      "text/plain": [
       "'<20'"
      ]
     },
     "execution_count": 7,
     "metadata": {},
     "output_type": "execute_result"
    }
   ],
   "source": [
    "num = 1\n",
    "is_even = True if num%2==0 else (\">20\" if num>20 else \"<20\")\n",
    "is_even"
   ]
  },
  {
   "cell_type": "markdown",
   "metadata": {},
   "source": [
    "# Loops"
   ]
  },
  {
   "cell_type": "markdown",
   "metadata": {},
   "source": [
    "### While"
   ]
  },
  {
   "cell_type": "code",
   "execution_count": 3,
   "metadata": {},
   "outputs": [
    {
     "name": "stdout",
     "output_type": "stream",
     "text": [
      "Eat Cookie!\n",
      "Eat Cookie!\n",
      "Eat Cookie!\n",
      "Eat Cookie!\n",
      "Eat Cookie!\n"
     ]
    }
   ],
   "source": [
    "cookies_eaten = 0\n",
    "while cookies_eaten < 5:\n",
    "    print(\"Eat Cookie!\")\n",
    "    cookies_eaten = cookies_eaten + 1"
   ]
  },
  {
   "cell_type": "code",
   "execution_count": 10,
   "metadata": {},
   "outputs": [
    {
     "name": "stdout",
     "output_type": "stream",
     "text": [
      "Eat Cookie!\n",
      "Eat Cookie!\n",
      "Eat Cookie!\n",
      "Eat Cookie!\n",
      "Eat Cookie!\n"
     ]
    }
   ],
   "source": [
    "cookies_left = 5\n",
    "while cookies_left > 0:\n",
    "    print(\"Eat Cookie!\")\n",
    "    cookies_left = cookies_left - 1"
   ]
  },
  {
   "cell_type": "markdown",
   "metadata": {},
   "source": [
    "### for Loop"
   ]
  },
  {
   "cell_type": "code",
   "execution_count": 20,
   "metadata": {},
   "outputs": [
    {
     "name": "stdout",
     "output_type": "stream",
     "text": [
      "P y t h o n 2\n",
      "3\n",
      "4\n",
      "5\n",
      "6\n",
      "7\n",
      "8\n"
     ]
    }
   ],
   "source": [
    "s = \"Python\"\n",
    "for alphabet in s:\n",
    "    print(alphabet, end=' ') # end for space or new line\n",
    "\n",
    "for num in [2, 3, 4, 5, 6, 7, 8]:\n",
    "    print(num)"
   ]
  },
  {
   "cell_type": "code",
   "execution_count": 24,
   "metadata": {},
   "outputs": [
    {
     "name": "stdout",
     "output_type": "stream",
     "text": [
      "1 1\n",
      "2 4\n",
      "3 9\n",
      "4 16\n"
     ]
    }
   ],
   "source": [
    "for key, value in {1:1, 2:4, 3:9, 4:16}.items():\n",
    "    print(key, value)"
   ]
  },
  {
   "cell_type": "code",
   "execution_count": 35,
   "metadata": {},
   "outputs": [
    {
     "name": "stdout",
     "output_type": "stream",
     "text": [
      "20\n",
      "22\n",
      "24\n",
      "26\n",
      "28\n",
      "30\n",
      "32\n",
      "34\n",
      "32\n",
      "30\n",
      "28\n",
      "26\n",
      "24\n",
      "22\n"
     ]
    }
   ],
   "source": [
    "#list(range(1,20)) \n",
    "\n",
    "#for num in range(20,34):\n",
    "    #print(num)\n",
    "\n",
    "for num in range(20,34, 2):\n",
    "    print(num)\n",
    "\n",
    "for num in range(34,20, -2):\n",
    "    print(num)"
   ]
  },
  {
   "cell_type": "markdown",
   "metadata": {},
   "source": [
    "### Break"
   ]
  },
  {
   "cell_type": "code",
   "execution_count": 37,
   "metadata": {},
   "outputs": [
    {
     "name": "stdout",
     "output_type": "stream",
     "text": [
      "Eat Cookie!\n",
      "Eat Cookie!\n",
      "Eat Cookie!\n",
      "Eat Cookie!\n",
      "Eat Cookie!\n",
      "Eat Cookie!\n",
      "Eat Cookie!\n",
      "Eat Cookie!\n",
      "Breaking the loop\n"
     ]
    }
   ],
   "source": [
    "cookies_eaten = 0\n",
    "while cookies_eaten < 10:\n",
    "    print(\"Eat Cookie!\")\n",
    "    if cookies_eaten > 6:\n",
    "        print(\"Breaking the loop\")\n",
    "        break\n",
    "        print(\"After Break\") # after break no statement will execute\n",
    "    cookies_eaten = cookies_eaten + 1"
   ]
  },
  {
   "cell_type": "code",
   "execution_count": 43,
   "metadata": {},
   "outputs": [
    {
     "name": "stdout",
     "output_type": "stream",
     "text": [
      "20\n",
      "21\n",
      "22\n",
      "23\n",
      "24\n",
      "25\n",
      "26\n"
     ]
    }
   ],
   "source": [
    "for num in range(20,50, 1):\n",
    "    print(num)\n",
    "    if num>25:\n",
    "        break\n"
   ]
  },
  {
   "cell_type": "markdown",
   "metadata": {},
   "source": [
    "### Continue"
   ]
  },
  {
   "cell_type": "code",
   "execution_count": 51,
   "metadata": {},
   "outputs": [
    {
     "name": "stdout",
     "output_type": "stream",
     "text": [
      "20\n",
      "21\n",
      "22\n",
      "23\n",
      "24\n",
      "25\n",
      "26\n",
      "Continue...\n",
      "Continue...\n",
      "Continue...\n",
      "Continue...\n",
      "Continue...\n",
      "Continue...\n",
      "Continue...\n",
      "Continue...\n",
      "Continue...\n",
      "36\n",
      "37\n",
      "38\n",
      "39\n"
     ]
    }
   ],
   "source": [
    "for num in range(20,40, 1):\n",
    "    if (num>26) and (num<=35):\n",
    "        print(\"Continue...\")\n",
    "        continue\n",
    "    print(num)"
   ]
  }
 ],
 "metadata": {
  "interpreter": {
   "hash": "a9cff5a362bc38ef45d817ae74b1af54d6a076e3d773891282bce078b815ba34"
  },
  "kernelspec": {
   "display_name": "Python 3.10.2 64-bit",
   "language": "python",
   "name": "python3"
  },
  "language_info": {
   "codemirror_mode": {
    "name": "ipython",
    "version": 3
   },
   "file_extension": ".py",
   "mimetype": "text/x-python",
   "name": "python",
   "nbconvert_exporter": "python",
   "pygments_lexer": "ipython3",
   "version": "3.10.2"
  },
  "orig_nbformat": 4
 },
 "nbformat": 4,
 "nbformat_minor": 2
}
